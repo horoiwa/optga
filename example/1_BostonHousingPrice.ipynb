{
 "cells": [
  {
   "cell_type": "markdown",
   "metadata": {},
   "source": [
    "## Exploring trade-off between house price and age in Boston dataset\n",
    "Generally, there is a trade-off between house price and age. But you may want to buy a ralatively new one as cheap as possible.\n",
    "\n",
    "Then, what kind of building should we look for?\n",
    "\n",
    "In this tutorial,\n",
    "\n",
    "1. Train two machine learning models for house prices and age in boston dataset usign sklearn.\n",
    "\n",
    "2. Find out pareto-optimum inputs of price and age using optga."
   ]
  },
  {
   "cell_type": "markdown",
   "metadata": {},
   "source": [
    "### 1. Training machine learining model\n",
    "First, train predictive models for price and age.\n",
    "\n",
    "Since building sophisticated predictive models is not the purpose of this tutorial, we will use a simple random forest regression model without hyperparameter tuning and cross-validation."
   ]
  },
  {
   "cell_type": "code",
   "execution_count": 1,
   "metadata": {},
   "outputs": [],
   "source": [
    "#: Load boston housing price datasets\n",
    "import pandas as pd\n",
    "from sklearn.datasets import load_boston\n",
    "\n",
    "boston = load_boston()\n",
    "df =  pd.DataFrame(boston.data, columns=boston.feature_names)\n",
    "\n",
    "X = df.drop([\"AGE\"], 1)\n",
    "y_price = pd.DataFrame(boston.target, columns=[\"Price\"])\n",
    "y_age = pd.DataFrame(df[\"AGE\"])\n"
   ]
  },
  {
   "cell_type": "code",
   "execution_count": 2,
   "metadata": {},
   "outputs": [
    {
     "data": {
      "text/html": [
       "<div>\n",
       "<style scoped>\n",
       "    .dataframe tbody tr th:only-of-type {\n",
       "        vertical-align: middle;\n",
       "    }\n",
       "\n",
       "    .dataframe tbody tr th {\n",
       "        vertical-align: top;\n",
       "    }\n",
       "\n",
       "    .dataframe thead th {\n",
       "        text-align: right;\n",
       "    }\n",
       "</style>\n",
       "<table border=\"1\" class=\"dataframe\">\n",
       "  <thead>\n",
       "    <tr style=\"text-align: right;\">\n",
       "      <th></th>\n",
       "      <th>CRIM</th>\n",
       "      <th>ZN</th>\n",
       "      <th>INDUS</th>\n",
       "      <th>CHAS</th>\n",
       "      <th>NOX</th>\n",
       "      <th>RM</th>\n",
       "      <th>DIS</th>\n",
       "      <th>RAD</th>\n",
       "      <th>TAX</th>\n",
       "      <th>PTRATIO</th>\n",
       "      <th>B</th>\n",
       "      <th>LSTAT</th>\n",
       "    </tr>\n",
       "  </thead>\n",
       "  <tbody>\n",
       "    <tr>\n",
       "      <th>0</th>\n",
       "      <td>0.00632</td>\n",
       "      <td>18.0</td>\n",
       "      <td>2.31</td>\n",
       "      <td>0.0</td>\n",
       "      <td>0.538</td>\n",
       "      <td>6.575</td>\n",
       "      <td>4.0900</td>\n",
       "      <td>1.0</td>\n",
       "      <td>296.0</td>\n",
       "      <td>15.3</td>\n",
       "      <td>396.90</td>\n",
       "      <td>4.98</td>\n",
       "    </tr>\n",
       "    <tr>\n",
       "      <th>1</th>\n",
       "      <td>0.02731</td>\n",
       "      <td>0.0</td>\n",
       "      <td>7.07</td>\n",
       "      <td>0.0</td>\n",
       "      <td>0.469</td>\n",
       "      <td>6.421</td>\n",
       "      <td>4.9671</td>\n",
       "      <td>2.0</td>\n",
       "      <td>242.0</td>\n",
       "      <td>17.8</td>\n",
       "      <td>396.90</td>\n",
       "      <td>9.14</td>\n",
       "    </tr>\n",
       "    <tr>\n",
       "      <th>2</th>\n",
       "      <td>0.02729</td>\n",
       "      <td>0.0</td>\n",
       "      <td>7.07</td>\n",
       "      <td>0.0</td>\n",
       "      <td>0.469</td>\n",
       "      <td>7.185</td>\n",
       "      <td>4.9671</td>\n",
       "      <td>2.0</td>\n",
       "      <td>242.0</td>\n",
       "      <td>17.8</td>\n",
       "      <td>392.83</td>\n",
       "      <td>4.03</td>\n",
       "    </tr>\n",
       "    <tr>\n",
       "      <th>3</th>\n",
       "      <td>0.03237</td>\n",
       "      <td>0.0</td>\n",
       "      <td>2.18</td>\n",
       "      <td>0.0</td>\n",
       "      <td>0.458</td>\n",
       "      <td>6.998</td>\n",
       "      <td>6.0622</td>\n",
       "      <td>3.0</td>\n",
       "      <td>222.0</td>\n",
       "      <td>18.7</td>\n",
       "      <td>394.63</td>\n",
       "      <td>2.94</td>\n",
       "    </tr>\n",
       "    <tr>\n",
       "      <th>4</th>\n",
       "      <td>0.06905</td>\n",
       "      <td>0.0</td>\n",
       "      <td>2.18</td>\n",
       "      <td>0.0</td>\n",
       "      <td>0.458</td>\n",
       "      <td>7.147</td>\n",
       "      <td>6.0622</td>\n",
       "      <td>3.0</td>\n",
       "      <td>222.0</td>\n",
       "      <td>18.7</td>\n",
       "      <td>396.90</td>\n",
       "      <td>5.33</td>\n",
       "    </tr>\n",
       "  </tbody>\n",
       "</table>\n",
       "</div>"
      ],
      "text/plain": [
       "      CRIM    ZN  INDUS  CHAS    NOX     RM     DIS  RAD    TAX  PTRATIO  \\\n",
       "0  0.00632  18.0   2.31   0.0  0.538  6.575  4.0900  1.0  296.0     15.3   \n",
       "1  0.02731   0.0   7.07   0.0  0.469  6.421  4.9671  2.0  242.0     17.8   \n",
       "2  0.02729   0.0   7.07   0.0  0.469  7.185  4.9671  2.0  242.0     17.8   \n",
       "3  0.03237   0.0   2.18   0.0  0.458  6.998  6.0622  3.0  222.0     18.7   \n",
       "4  0.06905   0.0   2.18   0.0  0.458  7.147  6.0622  3.0  222.0     18.7   \n",
       "\n",
       "        B  LSTAT  \n",
       "0  396.90   4.98  \n",
       "1  396.90   9.14  \n",
       "2  392.83   4.03  \n",
       "3  394.63   2.94  \n",
       "4  396.90   5.33  "
      ]
     },
     "execution_count": 2,
     "metadata": {},
     "output_type": "execute_result"
    }
   ],
   "source": [
    "X.head()"
   ]
  },
  {
   "cell_type": "markdown",
   "metadata": {},
   "source": [
    "**Note: Constraints should be added:**\n",
    "\n",
    "CHAS: [0, 1]\n",
    "\n",
    "ZN: [0, 100]\n",
    "\n",
    "RAD: [1.0, 2.0, 3.0, 4.0, 5.0, 6.0, 7.0, 8.0, 24]\n"
   ]
  },
  {
   "cell_type": "code",
   "execution_count": 3,
   "metadata": {},
   "outputs": [],
   "source": [
    "#: create predictive model\n",
    "from sklearn.ensemble import RandomForestRegressor\n",
    "import warnings\n",
    "warnings.filterwarnings(\"ignore\")\n",
    "\n",
    "model_price = RandomForestRegressor().fit(X, y_price)\n",
    "model_age = RandomForestRegressor().fit(X, y_age)"
   ]
  },
  {
   "cell_type": "markdown",
   "metadata": {},
   "source": [
    "### 2. Optimize ML input to explore trade-off relationship of price and age"
   ]
  },
  {
   "cell_type": "code",
   "execution_count": 4,
   "metadata": {},
   "outputs": [
    {
     "data": {
      "text/plain": [
       "'0.1.5'"
      ]
     },
     "execution_count": 4,
     "metadata": {},
     "output_type": "execute_result"
    }
   ],
   "source": [
    "#: if not pip installed \n",
    "import sys\n",
    "sys.path.append(\"..\")\n",
    "\n",
    "import optga\n",
    "from optga.optimizer import Optimizer\n",
    "\n",
    "optga.__version__"
   ]
  },
  {
   "cell_type": "code",
   "execution_count": 5,
   "metadata": {},
   "outputs": [],
   "source": [
    "optimizer = Optimizer(sample_data=X)\n",
    "\n",
    "optimizer.add_objective(\"Price\", model_price.predict, direction=\"minimize\")\n",
    "optimizer.add_objective(\"Age\", model_age.predict, direction=\"minimize\")\n",
    "\n",
    "optimizer.add_discrete_constraint(\"CHAS\", [0, 1])\n",
    "optimizer.add_discrete_constraint(\"ZN\", [0, 100])\n",
    "optimizer.add_discrete_constraint(\"RAD\", list(range(1, 9)) + [24])"
   ]
  },
  {
   "cell_type": "code",
   "execution_count": 6,
   "metadata": {},
   "outputs": [
    {
     "name": "stdout",
     "output_type": "stream",
     "text": [
      "{\n",
      "  \"mate\": \"MateCxTwoPoints\",\n",
      "  \"mutate\": \"MutateUniform\",\n",
      "  \"select\": \"SelectNSGA2\",\n",
      "  \"birth_rate\": 2,\n",
      "  \"mutpb\": 0.2,\n",
      "  \"indpb\": 0.1,\n",
      "  \"objectives\": {\n",
      "    \"Price\": \"minimize\",\n",
      "    \"Age\": \"minimize\"\n",
      "  },\n",
      "  \"limits\": {\n",
      "    \"CRIM\": [\n",
      "      0.00632,\n",
      "      88.9762\n",
      "    ],\n",
      "    \"ZN\": [\n",
      "      0.0,\n",
      "      100.0\n",
      "    ],\n",
      "    \"INDUS\": [\n",
      "      0.46,\n",
      "      27.74\n",
      "    ],\n",
      "    \"CHAS\": [\n",
      "      0.0,\n",
      "      1.0\n",
      "    ],\n",
      "    \"NOX\": [\n",
      "      0.385,\n",
      "      0.871\n",
      "    ],\n",
      "    \"RM\": [\n",
      "      3.561,\n",
      "      8.78\n",
      "    ],\n",
      "    \"DIS\": [\n",
      "      1.1296,\n",
      "      12.1265\n",
      "    ],\n",
      "    \"RAD\": [\n",
      "      1.0,\n",
      "      24.0\n",
      "    ],\n",
      "    \"TAX\": [\n",
      "      187.0,\n",
      "      711.0\n",
      "    ],\n",
      "    \"PTRATIO\": [\n",
      "      12.6,\n",
      "      22.0\n",
      "    ],\n",
      "    \"B\": [\n",
      "      0.32,\n",
      "      396.9\n",
      "    ],\n",
      "    \"LSTAT\": [\n",
      "      1.73,\n",
      "      37.97\n",
      "    ]\n",
      "  },\n",
      "  \"discrete_constraints\": {\n",
      "    \"CHAS\": [\n",
      "      0.0,\n",
      "      1.0\n",
      "    ],\n",
      "    \"ZN\": [\n",
      "      0.0,\n",
      "      100.0\n",
      "    ],\n",
      "    \"RAD\": [\n",
      "      1.0,\n",
      "      2.0,\n",
      "      3.0,\n",
      "      4.0,\n",
      "      5.0,\n",
      "      6.0,\n",
      "      7.0,\n",
      "      8.0,\n",
      "      24.0\n",
      "    ]\n",
      "  },\n",
      "  \"onehot_groups\": null,\n",
      "  \"onehot_constraints\": null,\n",
      "  \"sumtotal_groups\": null,\n",
      "  \"sumtotal_constraints\": null\n",
      "}\n"
     ]
    }
   ],
   "source": [
    "#: confirm optimization config\n",
    "optimizer.show_config()"
   ]
  },
  {
   "cell_type": "code",
   "execution_count": 7,
   "metadata": {},
   "outputs": [
    {
     "name": "stderr",
     "output_type": "stream",
     "text": [
      "(INFO)[2020-01-06 23:08:27,953]\n",
      "====Generation 0 ====\n",
      "(INFO)[2020-01-06 23:08:27,954]\n",
      "          MAX     MIN    Average\n",
      "Price  45.372   8.458  22.237163\n",
      "Age    95.219  14.791  70.757477\n",
      "(INFO)[2020-01-06 23:08:35,168]\n",
      "====Generation 50 ====\n",
      "(INFO)[2020-01-06 23:08:35,169]\n",
      "          MAX     MIN    Average\n",
      "Price  37.567   6.204  14.614170\n",
      "Age    94.471  10.654  55.673632\n",
      "(INFO)[2020-01-06 23:08:35,171]\n",
      "Average time per generation: 0.14424023628234864\n",
      "(INFO)[2020-01-06 23:08:41,965]\n",
      "====Generation 100 ====\n",
      "(INFO)[2020-01-06 23:08:41,965]\n",
      "          MAX    MIN    Average\n",
      "Price  45.496  5.891  16.882643\n",
      "Age    91.563  9.764  44.605697\n",
      "(INFO)[2020-01-06 23:08:41,975]\n",
      "Average time per generation: 0.13586848735809326\n",
      "(INFO)[2020-01-06 23:08:48,910]\n",
      "====Generation 150 ====\n",
      "(INFO)[2020-01-06 23:08:48,910]\n",
      "          MAX    MIN    Average\n",
      "Price  32.015  5.788  16.230009\n",
      "Age    94.256  9.631  49.329008\n",
      "(INFO)[2020-01-06 23:08:48,910]\n",
      "Average time per generation: 0.13870314598083497\n",
      "(INFO)[2020-01-06 23:08:55,970]\n",
      "====Generation 200 ====\n",
      "(INFO)[2020-01-06 23:08:55,970]\n",
      "          MAX    MIN    Average\n",
      "Price  28.932  5.787  15.532549\n",
      "Age    92.151  9.553  52.717678\n",
      "(INFO)[2020-01-06 23:08:55,972]\n",
      "Average time per generation: 0.14119489192962648\n",
      "(INFO)[2020-01-06 23:09:03,208]\n",
      "====Generation 250 ====\n",
      "(INFO)[2020-01-06 23:09:03,208]\n",
      "          MAX    MIN    Average\n",
      "Price  31.610  5.787  15.752193\n",
      "Age    95.497  9.524  51.091216\n",
      "(INFO)[2020-01-06 23:09:03,217]\n",
      "Average time per generation: 0.144707293510437\n",
      "(INFO)[2020-01-06 23:09:10,617]\n",
      "GA optimization finished gracefully\n"
     ]
    }
   ],
   "source": [
    "#: run optimization\n",
    "optimizer.run(n_gen=300, population_size=300, logging_per=50)"
   ]
  },
  {
   "cell_type": "markdown",
   "metadata": {},
   "source": [
    "### 3.Visualize Result"
   ]
  },
  {
   "cell_type": "code",
   "execution_count": 8,
   "metadata": {},
   "outputs": [
    {
     "name": "stdout",
     "output_type": "stream",
     "text": [
      "Overwrite: boston_result\n"
     ]
    }
   ],
   "source": [
    "optimizer.export_result(\"boston_result\")"
   ]
  },
  {
   "cell_type": "code",
   "execution_count": 9,
   "metadata": {},
   "outputs": [],
   "source": [
    "Y_init = pd.read_csv(\"boston_result/Y_init.csv\")\n",
    "Y_pareto = pd.read_csv(\"boston_result/Y_pareto.csv\")\n"
   ]
  },
  {
   "cell_type": "code",
   "execution_count": 10,
   "metadata": {},
   "outputs": [
    {
     "data": {
      "text/plain": [
       "<matplotlib.legend.Legend at 0x1e9d44eb188>"
      ]
     },
     "execution_count": 10,
     "metadata": {},
     "output_type": "execute_result"
    },
    {
     "data": {
      "image/png": "[encoded data removed]",
      "text/plain": [
       "<Figure size 432x288 with 1 Axes>"
      ]
     },
     "metadata": {
      "needs_background": "light"
     },
     "output_type": "display_data"
    }
   ],
   "source": [
    "import matplotlib.pyplot as plt\n",
    "%matplotlib inline\n",
    "\n",
    "plt.scatter(Y_init[\"Age\"], Y_init[\"Price\"], label=\"initial population\")\n",
    "plt.scatter(Y_pareto[\"Age\"], Y_pareto[\"Price\"], label=\"pareto-front\")\n",
    "plt.xlabel(\"Age\")\n",
    "plt.ylabel(\"Price\")\n",
    "plt.legend()"
   ]
  },
  {
   "cell_type": "code",
   "execution_count": null,
   "metadata": {},
   "outputs": [],
   "source": []
  }
 ],
 "metadata": {
  "kernelspec": {
   "display_name": "Python 3",
   "language": "python",
   "name": "python3"
  },
  "language_info": {
   "codemirror_mode": {
    "name": "ipython",
    "version": 3
   },
   "file_extension": ".py",
   "mimetype": "text/x-python",
   "name": "python",
   "nbconvert_exporter": "python",
   "pygments_lexer": "ipython3",
   "version": "3.7.4"
  }
 },
 "nbformat": 4,
 "nbformat_minor": 4
}
