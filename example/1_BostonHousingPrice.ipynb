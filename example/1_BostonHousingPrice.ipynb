{
 "cells": [
  {
   "cell_type": "markdown",
   "metadata": {},
   "source": [
    "## Exploring trade-off between house price and age in Boston dataset\n",
    "Generally, there is a trade-off between house price and age. But you may want to buy a ralatively new one as cheap as possible.\n",
    "\n",
    "Then, what kind of building should we look for?\n",
    "\n",
    "In this tutorial,\n",
    "\n",
    "1. Train tow machine learning models for house prices and age usign sklearn.\n",
    "\n",
    "2. Find out optimal input which achieve low cost and ralatively new building using optga."
   ]
  },
  {
   "cell_type": "code",
   "execution_count": null,
   "metadata": {},
   "outputs": [],
   "source": []
  },
  {
   "cell_type": "code",
   "execution_count": null,
   "metadata": {},
   "outputs": [],
   "source": []
  }
 ],
 "metadata": {
  "kernelspec": {
   "display_name": "Python 3",
   "language": "python",
   "name": "python3"
  },
  "language_info": {
   "codemirror_mode": {
    "name": "ipython",
    "version": 3
   },
   "file_extension": ".py",
   "mimetype": "text/x-python",
   "name": "python",
   "nbconvert_exporter": "python",
   "pygments_lexer": "ipython3",
   "version": "3.7.4"
  }
 },
 "nbformat": 4,
 "nbformat_minor": 4
}
